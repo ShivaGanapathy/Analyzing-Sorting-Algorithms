{
 "cells": [
  {
   "cell_type": "markdown",
   "metadata": {},
   "source": [
    "# Merge Sort\n",
    "\n",
    "Time Complexity: O(n) = nlog(n)\n",
    "\n",
    "Merge sort is a recursive sorting algorithm that works by splitting the array up into smaller subarrays. A list of n elements is split into n lists of 1 element. From there, they are merged into n/2 lists of 2. They continue to merge together until the entire list is reformed and sorted. This algorithm is significantly more effecient than selection and bubble sort at a time complexity of O(nlog(n)). \n",
    "\n"
   ]
  },
  {
   "cell_type": "code",
   "execution_count": null,
   "metadata": {},
   "outputs": [],
   "source": [
    "array = [100,99,98,97,96]\n",
    "\n",
    "\n",
    "def merge_sorter(array):\n",
    "    '''Returns Array Sorted via Merge Sort'''\n",
    "    #This part splits up the array recursively\n",
    "    if len(array) <=1:\n",
    "        return array\n",
    "    \n",
    "    mid_index = int(len(array)/2)\n",
    "    left = merge_sorter(array[:mid_index])\n",
    "    right = merge_sorter(array[mid_index:])\n",
    "    \n",
    "    #This part merges the subarrays\n",
    "    result = []\n",
    "    left_pointer = 0\n",
    "    right_pointer = 0 \n",
    "    while left_pointer < len(left) and right_pointer < len(right):\n",
    "        if left[left_pointer] < right[right_pointer]:\n",
    "            result.append(left[left_pointer])\n",
    "            left_pointer +=1\n",
    "        else:\n",
    "            result.append(right[right_pointer])\n",
    "            right_pointer +=1\n",
    "            \n",
    "    result.extend(left[left_pointer:])\n",
    "    result.extend(right[right_pointer:])\n",
    "    \n",
    "    return result\n",
    "\n",
    "print(merge_sorter(array))"
   ]
  }
 ],
 "metadata": {
  "kernelspec": {
   "display_name": "Python 3",
   "language": "python",
   "name": "python3"
  },
  "language_info": {
   "codemirror_mode": {
    "name": "ipython",
    "version": 3
   },
   "file_extension": ".py",
   "mimetype": "text/x-python",
   "name": "python",
   "nbconvert_exporter": "python",
   "pygments_lexer": "ipython3",
   "version": "3.7.1"
  }
 },
 "nbformat": 4,
 "nbformat_minor": 2
}
